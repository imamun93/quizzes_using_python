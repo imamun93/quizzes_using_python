{
 "cells": [
  {
   "cell_type": "markdown",
   "metadata": {},
   "source": [
    "# Creating a Simple Translation Quiz using Dictionaries"
   ]
  },
  {
   "cell_type": "code",
   "execution_count": 1,
   "metadata": {},
   "outputs": [
    {
     "name": "stdout",
     "output_type": "stream",
     "text": [
      "*** Quiz ***\n",
      "\n",
      "Please enter your name: IM\n",
      "\n",
      "sein to be\n",
      "Correct.\n",
      "haben to have\n",
      "Correct.\n",
      "werden to become\n",
      "Correct.\n",
      "sagen to say\n",
      "Correct.\n",
      "geben to see\n",
      "Sorry, correct answer is \"to give\".\n",
      "\n",
      "Well done Im, you scored 4 out of 5.\n"
     ]
    }
   ],
   "source": [
    "def main():\n",
    "    \n",
    "    qs={'sein ':'to be', 'haben ':'to have', 'werden ':'to become', 'sagen ':'to say', 'geben ':'to give'}\n",
    "    print(\"*** Quiz ***\\n\")\n",
    "    name = input(\"Please enter your name: \").title()\n",
    "    print()\n",
    "    print(\"\\nWell done {0}, you scored {1} out of {2}.\".format(name, quiz(qs), len(qs)))\n",
    "def quiz(qs):\n",
    "    score = 0\n",
    "    for q,a in qs.items():\n",
    "        if input(q).lower() == a.lower():\n",
    "            score += 1\n",
    "            print(\"Correct.\")\n",
    "        else:\n",
    "            print(\"Sorry, correct answer is \\\"{}\\\".\".format(a))\n",
    "            return score\n",
    " \n",
    "if __name__ == \"__main__\":\n",
    "    main()"
   ]
  },
  {
   "cell_type": "markdown",
   "metadata": {},
   "source": [
    "# Class Based Quiz"
   ]
  },
  {
   "cell_type": "code",
   "execution_count": 2,
   "metadata": {},
   "outputs": [],
   "source": [
    "class Question:\n",
    "     def __init__(self, prompt, answer):\n",
    "          self.prompt = prompt\n",
    "          self.answer = answer"
   ]
  },
  {
   "cell_type": "code",
   "execution_count": 3,
   "metadata": {},
   "outputs": [],
   "source": [
    "question_prompts = [\n",
    "     \"What does 'sein' mean?\\n(a) 'to be'\\n(b)'to have'\",'\\n'\n",
    "     \"What does 'haben' mean?\\n(a) 'to be'\\n(b)'to have'\",'\\n'\n",
    "    \"What does 'werden' mean?\\n (a) 'to become'\\n (b) 'to come'\", '\\n'\n",
    "    \"What does 'sagen' mean?\\n (a) 'to say'\\n (b) 'to hear'\", '\\n'\n",
    "    \"What does 'geben' mean?\\n (a) 'to take'\\n (b) 'to give'\", '\\n'\n",
    "]"
   ]
  },
  {
   "cell_type": "code",
   "execution_count": 4,
   "metadata": {},
   "outputs": [
    {
     "name": "stdout",
     "output_type": "stream",
     "text": [
      "Please enter your name: IM\n"
     ]
    }
   ],
   "source": [
    "name = input(\"Please enter your name: \").title()"
   ]
  },
  {
   "cell_type": "code",
   "execution_count": 5,
   "metadata": {},
   "outputs": [],
   "source": [
    "questions = [\n",
    "     Question(question_prompts[0], \"a\"),\n",
    "     Question(question_prompts[1], \"b\"),\n",
    "    Question(question_prompts[2], \"a\"),\n",
    "    Question(question_prompts[3], \"a\"),\n",
    "    Question(question_prompts[4], \"b\")\n",
    "              ]"
   ]
  },
  {
   "cell_type": "code",
   "execution_count": 7,
   "metadata": {},
   "outputs": [],
   "source": [
    "def run_quiz(questions):\n",
    "     score = 0\n",
    "     for question in questions:\n",
    "          answer = input(question.prompt)\n",
    "          if answer == question.answer:\n",
    "               score += 1\n",
    "     print(\"\\n{0}, you scored {1} out of {2}.\".format(name, score, len(questions)))\n"
   ]
  },
  {
   "cell_type": "code",
   "execution_count": null,
   "metadata": {},
   "outputs": [],
   "source": [
    "run_quiz(questions)"
   ]
  },
  {
   "cell_type": "code",
   "execution_count": null,
   "metadata": {},
   "outputs": [],
   "source": []
  }
 ],
 "metadata": {
  "kernelspec": {
   "display_name": "Python 3",
   "language": "python",
   "name": "python3"
  },
  "language_info": {
   "codemirror_mode": {
    "name": "ipython",
    "version": 3
   },
   "file_extension": ".py",
   "mimetype": "text/x-python",
   "name": "python",
   "nbconvert_exporter": "python",
   "pygments_lexer": "ipython3",
   "version": "3.6.8"
  }
 },
 "nbformat": 4,
 "nbformat_minor": 2
}
